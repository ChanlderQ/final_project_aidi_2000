{
 "cells": [
  {
   "cell_type": "code",
   "execution_count": 1,
   "metadata": {},
   "outputs": [
    {
     "name": "stderr",
     "output_type": "stream",
     "text": [
      "[nltk_data] Downloading package omw-1.4 to\n",
      "[nltk_data]     C:\\Users\\sheng\\AppData\\Roaming\\nltk_data...\n",
      "[nltk_data]   Package omw-1.4 is already up-to-date!\n",
      "[nltk_data] Downloading package wordnet to\n",
      "[nltk_data]     C:\\Users\\sheng\\AppData\\Roaming\\nltk_data...\n",
      "[nltk_data]   Package wordnet is already up-to-date!\n"
     ]
    }
   ],
   "source": [
    "import pandas as pd\n",
    "import numpy as np\n",
    "from bs4 import BeautifulSoup \n",
    "import re\n",
    "import nltk\n",
    "nltk.download('omw-1.4')\n",
    "nltk.download('wordnet')\n",
    "from nltk.corpus import stopwords\n",
    "from nltk.stem import WordNetLemmatizer\n",
    "import tensorflow as tf\n",
    "from tensorflow.keras.preprocessing.text import Tokenizer\n",
    "from tensorflow.keras.preprocessing.sequence import pad_sequences\n",
    "from sklearn.model_selection import train_test_split\n",
    "from tensorflow.keras.models import Sequential\n",
    "from tensorflow.keras.layers import Dense, BatchNormalization, SpatialDropout1D, Embedding, LSTM\n",
    "from tensorflow.keras.callbacks import ModelCheckpoint, EarlyStopping"
   ]
  },
  {
   "cell_type": "code",
   "execution_count": 2,
   "metadata": {},
   "outputs": [
    {
     "data": {
      "text/html": [
       "<div>\n",
       "<style scoped>\n",
       "    .dataframe tbody tr th:only-of-type {\n",
       "        vertical-align: middle;\n",
       "    }\n",
       "\n",
       "    .dataframe tbody tr th {\n",
       "        vertical-align: top;\n",
       "    }\n",
       "\n",
       "    .dataframe thead th {\n",
       "        text-align: right;\n",
       "    }\n",
       "</style>\n",
       "<table border=\"1\" class=\"dataframe\">\n",
       "  <thead>\n",
       "    <tr style=\"text-align: right;\">\n",
       "      <th></th>\n",
       "      <th>0</th>\n",
       "      <th>1</th>\n",
       "      <th>2</th>\n",
       "      <th>3</th>\n",
       "    </tr>\n",
       "  </thead>\n",
       "  <tbody>\n",
       "    <tr>\n",
       "      <th>0</th>\n",
       "      <td>2401</td>\n",
       "      <td>Borderlands</td>\n",
       "      <td>Positive</td>\n",
       "      <td>im getting on borderlands and i will murder yo...</td>\n",
       "    </tr>\n",
       "    <tr>\n",
       "      <th>1</th>\n",
       "      <td>2401</td>\n",
       "      <td>Borderlands</td>\n",
       "      <td>Positive</td>\n",
       "      <td>I am coming to the borders and I will kill you...</td>\n",
       "    </tr>\n",
       "    <tr>\n",
       "      <th>2</th>\n",
       "      <td>2401</td>\n",
       "      <td>Borderlands</td>\n",
       "      <td>Positive</td>\n",
       "      <td>im getting on borderlands and i will kill you ...</td>\n",
       "    </tr>\n",
       "    <tr>\n",
       "      <th>3</th>\n",
       "      <td>2401</td>\n",
       "      <td>Borderlands</td>\n",
       "      <td>Positive</td>\n",
       "      <td>im coming on borderlands and i will murder you...</td>\n",
       "    </tr>\n",
       "    <tr>\n",
       "      <th>4</th>\n",
       "      <td>2401</td>\n",
       "      <td>Borderlands</td>\n",
       "      <td>Positive</td>\n",
       "      <td>im getting on borderlands 2 and i will murder ...</td>\n",
       "    </tr>\n",
       "  </tbody>\n",
       "</table>\n",
       "</div>"
      ],
      "text/plain": [
       "      0            1         2  \\\n",
       "0  2401  Borderlands  Positive   \n",
       "1  2401  Borderlands  Positive   \n",
       "2  2401  Borderlands  Positive   \n",
       "3  2401  Borderlands  Positive   \n",
       "4  2401  Borderlands  Positive   \n",
       "\n",
       "                                                   3  \n",
       "0  im getting on borderlands and i will murder yo...  \n",
       "1  I am coming to the borders and I will kill you...  \n",
       "2  im getting on borderlands and i will kill you ...  \n",
       "3  im coming on borderlands and i will murder you...  \n",
       "4  im getting on borderlands 2 and i will murder ...  "
      ]
     },
     "execution_count": 2,
     "metadata": {},
     "output_type": "execute_result"
    }
   ],
   "source": [
    "# read training data\n",
    "data = pd.read_csv('./data/twitter_training.csv',header=None)\n",
    "data.head()"
   ]
  },
  {
   "cell_type": "code",
   "execution_count": 3,
   "metadata": {},
   "outputs": [
    {
     "name": "stderr",
     "output_type": "stream",
     "text": [
      "C:\\Users\\sheng\\AppData\\Roaming\\Python\\Python39\\site-packages\\pandas\\core\\frame.py:4906: SettingWithCopyWarning: \n",
      "A value is trying to be set on a copy of a slice from a DataFrame\n",
      "\n",
      "See the caveats in the documentation: https://pandas.pydata.org/pandas-docs/stable/user_guide/indexing.html#returning-a-view-versus-a-copy\n",
      "  return super().drop(\n"
     ]
    },
    {
     "data": {
      "text/html": [
       "<div>\n",
       "<style scoped>\n",
       "    .dataframe tbody tr th:only-of-type {\n",
       "        vertical-align: middle;\n",
       "    }\n",
       "\n",
       "    .dataframe tbody tr th {\n",
       "        vertical-align: top;\n",
       "    }\n",
       "\n",
       "    .dataframe thead th {\n",
       "        text-align: right;\n",
       "    }\n",
       "</style>\n",
       "<table border=\"1\" class=\"dataframe\">\n",
       "  <thead>\n",
       "    <tr style=\"text-align: right;\">\n",
       "      <th></th>\n",
       "      <th>2</th>\n",
       "      <th>3</th>\n",
       "    </tr>\n",
       "  </thead>\n",
       "  <tbody>\n",
       "    <tr>\n",
       "      <th>0</th>\n",
       "      <td>Positive</td>\n",
       "      <td>im getting on borderlands and i will murder yo...</td>\n",
       "    </tr>\n",
       "    <tr>\n",
       "      <th>1</th>\n",
       "      <td>Positive</td>\n",
       "      <td>I am coming to the borders and I will kill you...</td>\n",
       "    </tr>\n",
       "    <tr>\n",
       "      <th>2</th>\n",
       "      <td>Positive</td>\n",
       "      <td>im getting on borderlands and i will kill you ...</td>\n",
       "    </tr>\n",
       "    <tr>\n",
       "      <th>3</th>\n",
       "      <td>Positive</td>\n",
       "      <td>im coming on borderlands and i will murder you...</td>\n",
       "    </tr>\n",
       "    <tr>\n",
       "      <th>4</th>\n",
       "      <td>Positive</td>\n",
       "      <td>im getting on borderlands 2 and i will murder ...</td>\n",
       "    </tr>\n",
       "  </tbody>\n",
       "</table>\n",
       "</div>"
      ],
      "text/plain": [
       "          2                                                  3\n",
       "0  Positive  im getting on borderlands and i will murder yo...\n",
       "1  Positive  I am coming to the borders and I will kill you...\n",
       "2  Positive  im getting on borderlands and i will kill you ...\n",
       "3  Positive  im coming on borderlands and i will murder you...\n",
       "4  Positive  im getting on borderlands 2 and i will murder ..."
      ]
     },
     "execution_count": 3,
     "metadata": {},
     "output_type": "execute_result"
    }
   ],
   "source": [
    "data_2 = data[data[2]!='Irrelevant']\n",
    "data_2.drop(columns=[0,1],inplace=True)\n",
    "data_2.head()"
   ]
  },
  {
   "cell_type": "code",
   "execution_count": 4,
   "metadata": {},
   "outputs": [],
   "source": [
    "# removing not and no\n",
    "my_stopwords = stopwords.words(\"english\")\n",
    "my_stopwords.remove('not')\n",
    "my_stopwords.remove('no')"
   ]
  },
  {
   "cell_type": "code",
   "execution_count": 5,
   "metadata": {},
   "outputs": [],
   "source": [
    "\n",
    "# intializing method for lemmatizing words\n",
    "lemmatizer = WordNetLemmatizer()\n",
    "\n",
    "# now creating funtion to clean our data\n",
    "def cleaned_review(review):\n",
    "    if isinstance(review,str):\n",
    "        # remove any html tags\n",
    "        new_review = BeautifulSoup(review).get_text()\n",
    "        \n",
    "        # remove urls from reviews\n",
    "        no_urls = new_review.replace('http\\S+', '').replace('www\\S+', '')\n",
    "        \n",
    "        # remove any non-letters\n",
    "        clean_review = re.sub(\"[^a-zA-Z]\", \" \", no_urls)\n",
    "        \n",
    "        # convert whole sentence to lowercase and split\n",
    "        new_words = clean_review.lower().split()\n",
    "        \n",
    "        # converting stopwords list to set for faster search\n",
    "        stops = set(my_stopwords)\n",
    "        \n",
    "        # using stopwords to remove irrelavent words and lemmatizing the final output\n",
    "        final_words = [lemmatizer.lemmatize(word) for word in new_words if not word in stops]\n",
    "        # return the final result\n",
    "        return (\" \".join(final_words))\n",
    "    else:\n",
    "        cleaned_review(str(review))"
   ]
  },
  {
   "cell_type": "code",
   "execution_count": 6,
   "metadata": {},
   "outputs": [
    {
     "name": "stderr",
     "output_type": "stream",
     "text": [
      "c:\\ProgramData\\Anaconda3\\lib\\site-packages\\bs4\\__init__.py:435: MarkupResemblesLocatorWarning: The input looks more like a filename than markup. You may want to open this file and pass the filehandle into Beautiful Soup.\n",
      "  warnings.warn(\n",
      "C:\\Users\\sheng\\AppData\\Local\\Temp\\ipykernel_13296\\3395278120.py:1: SettingWithCopyWarning: \n",
      "A value is trying to be set on a copy of a slice from a DataFrame.\n",
      "Try using .loc[row_indexer,col_indexer] = value instead\n",
      "\n",
      "See the caveats in the documentation: https://pandas.pydata.org/pandas-docs/stable/user_guide/indexing.html#returning-a-view-versus-a-copy\n",
      "  data_2['msg'] = data_2[3].apply(lambda x:cleaned_review(x))\n"
     ]
    }
   ],
   "source": [
    "data_2['msg'] = data_2[3].apply(lambda x:cleaned_review(x))"
   ]
  },
  {
   "cell_type": "code",
   "execution_count": 7,
   "metadata": {},
   "outputs": [
    {
     "data": {
      "text/html": [
       "<div>\n",
       "<style scoped>\n",
       "    .dataframe tbody tr th:only-of-type {\n",
       "        vertical-align: middle;\n",
       "    }\n",
       "\n",
       "    .dataframe tbody tr th {\n",
       "        vertical-align: top;\n",
       "    }\n",
       "\n",
       "    .dataframe thead th {\n",
       "        text-align: right;\n",
       "    }\n",
       "</style>\n",
       "<table border=\"1\" class=\"dataframe\">\n",
       "  <thead>\n",
       "    <tr style=\"text-align: right;\">\n",
       "      <th></th>\n",
       "      <th>msg</th>\n",
       "      <th>Negative</th>\n",
       "      <th>Neutral</th>\n",
       "      <th>Positive</th>\n",
       "    </tr>\n",
       "  </thead>\n",
       "  <tbody>\n",
       "    <tr>\n",
       "      <th>0</th>\n",
       "      <td>im getting borderland murder</td>\n",
       "      <td>0</td>\n",
       "      <td>0</td>\n",
       "      <td>1</td>\n",
       "    </tr>\n",
       "    <tr>\n",
       "      <th>1</th>\n",
       "      <td>coming border kill</td>\n",
       "      <td>0</td>\n",
       "      <td>0</td>\n",
       "      <td>1</td>\n",
       "    </tr>\n",
       "    <tr>\n",
       "      <th>2</th>\n",
       "      <td>im getting borderland kill</td>\n",
       "      <td>0</td>\n",
       "      <td>0</td>\n",
       "      <td>1</td>\n",
       "    </tr>\n",
       "    <tr>\n",
       "      <th>3</th>\n",
       "      <td>im coming borderland murder</td>\n",
       "      <td>0</td>\n",
       "      <td>0</td>\n",
       "      <td>1</td>\n",
       "    </tr>\n",
       "    <tr>\n",
       "      <th>4</th>\n",
       "      <td>im getting borderland murder</td>\n",
       "      <td>0</td>\n",
       "      <td>0</td>\n",
       "      <td>1</td>\n",
       "    </tr>\n",
       "  </tbody>\n",
       "</table>\n",
       "</div>"
      ],
      "text/plain": [
       "                            msg  Negative  Neutral  Positive\n",
       "0  im getting borderland murder         0        0         1\n",
       "1            coming border kill         0        0         1\n",
       "2    im getting borderland kill         0        0         1\n",
       "3   im coming borderland murder         0        0         1\n",
       "4  im getting borderland murder         0        0         1"
      ]
     },
     "execution_count": 7,
     "metadata": {},
     "output_type": "execute_result"
    }
   ],
   "source": [
    "sentiment = pd.get_dummies(data_2[2])\n",
    "data_3 = pd.concat([data_2,sentiment],axis=1)\n",
    "train_data=data_3[[\"msg\",\"Negative\",\"Neutral\",\"Positive\"]].dropna()\n",
    "train_data.head()"
   ]
  },
  {
   "cell_type": "code",
   "execution_count": 8,
   "metadata": {},
   "outputs": [
    {
     "name": "stdout",
     "output_type": "stream",
     "text": [
      "Found 23091 unique tokens.\n"
     ]
    }
   ],
   "source": [
    "max_len = 40\n",
    "tokenizer = Tokenizer()\n",
    "tokenizer.fit_on_texts(train_data['msg'].values)\n",
    "sequences = tokenizer.texts_to_sequences(train_data['msg'].values)\n",
    "word_index = tokenizer.word_index\n",
    "print('Found %s unique tokens.' % len(word_index))\n",
    "X = pad_sequences(sequences, maxlen=max_len, padding='post')\n",
    "y=train_data[['Negative','Neutral','Positive']]"
   ]
  },
  {
   "cell_type": "code",
   "execution_count": 9,
   "metadata": {},
   "outputs": [
    {
     "data": {
      "text/plain": [
       "((60509, 40), (612, 40))"
      ]
     },
     "execution_count": 9,
     "metadata": {},
     "output_type": "execute_result"
    }
   ],
   "source": [
    "X_train, X_test, y_train, y_test = train_test_split(X, y, test_size=0.01, random_state=42)\n",
    "X_train.shape,X_test.shape"
   ]
  },
  {
   "cell_type": "code",
   "execution_count": 10,
   "metadata": {},
   "outputs": [
    {
     "name": "stdout",
     "output_type": "stream",
     "text": [
      "Epoch 1/40\n",
      "426/426 [==============================] - 32s 70ms/step - loss: 0.8974 - acc: 0.5547 - val_loss: 0.6694 - val_acc: 0.7111\n",
      "Epoch 2/40\n",
      "426/426 [==============================] - 32s 75ms/step - loss: 0.5255 - acc: 0.7945 - val_loss: 0.4313 - val_acc: 0.8314\n",
      "Epoch 3/40\n",
      "426/426 [==============================] - 30s 70ms/step - loss: 0.3675 - acc: 0.8634 - val_loss: 0.3652 - val_acc: 0.8622\n",
      "Epoch 4/40\n",
      "426/426 [==============================] - 29s 69ms/step - loss: 0.3062 - acc: 0.8870 - val_loss: 0.3439 - val_acc: 0.8681\n",
      "Epoch 5/40\n",
      "426/426 [==============================] - 29s 69ms/step - loss: 0.2677 - acc: 0.8992 - val_loss: 0.3299 - val_acc: 0.8775\n",
      "Epoch 6/40\n",
      "426/426 [==============================] - 29s 69ms/step - loss: 0.2444 - acc: 0.9066 - val_loss: 0.3205 - val_acc: 0.8812\n",
      "Epoch 7/40\n",
      "426/426 [==============================] - 29s 68ms/step - loss: 0.2243 - acc: 0.9156 - val_loss: 0.3355 - val_acc: 0.8842\n",
      "Epoch 8/40\n",
      "426/426 [==============================] - 29s 68ms/step - loss: 0.2178 - acc: 0.9152 - val_loss: 0.3171 - val_acc: 0.8832\n",
      "Epoch 9/40\n",
      "426/426 [==============================] - 29s 68ms/step - loss: 0.1991 - acc: 0.9210 - val_loss: 0.3158 - val_acc: 0.8865\n",
      "Epoch 10/40\n",
      "426/426 [==============================] - 30s 71ms/step - loss: 0.1881 - acc: 0.9243 - val_loss: 0.3255 - val_acc: 0.8908\n",
      "Epoch 11/40\n",
      "426/426 [==============================] - 30s 71ms/step - loss: 0.1782 - acc: 0.9287 - val_loss: 0.3398 - val_acc: 0.8896\n",
      "Epoch 12/40\n",
      "426/426 [==============================] - 30s 69ms/step - loss: 0.1721 - acc: 0.9314 - val_loss: 0.3421 - val_acc: 0.8880\n",
      "Epoch 13/40\n",
      "426/426 [==============================] - 30s 70ms/step - loss: 0.1656 - acc: 0.9319 - val_loss: 0.3703 - val_acc: 0.8881\n",
      "Epoch 14/40\n",
      "426/426 [==============================] - 30s 69ms/step - loss: 0.1569 - acc: 0.9359 - val_loss: 0.3180 - val_acc: 0.8899\n",
      "Epoch 15/40\n",
      "426/426 [==============================] - 30s 70ms/step - loss: 0.1527 - acc: 0.9374 - val_loss: 0.3443 - val_acc: 0.8901\n",
      "Epoch 16/40\n",
      "426/426 [==============================] - 30s 71ms/step - loss: 0.1484 - acc: 0.9391 - val_loss: 0.4036 - val_acc: 0.8873\n",
      "Epoch 17/40\n",
      "426/426 [==============================] - 30s 71ms/step - loss: 0.1435 - acc: 0.9401 - val_loss: 0.3443 - val_acc: 0.8931\n",
      "Epoch 18/40\n",
      "426/426 [==============================] - 29s 69ms/step - loss: 0.1383 - acc: 0.9411 - val_loss: 0.3446 - val_acc: 0.8881\n",
      "Epoch 19/40\n",
      "426/426 [==============================] - 30s 70ms/step - loss: 0.1324 - acc: 0.9439 - val_loss: 0.3368 - val_acc: 0.8954\n"
     ]
    }
   ],
   "source": [
    "\n",
    "n_most_words = 23092\n",
    "n_dim = 50\n",
    "\n",
    "# Now we create our model\n",
    "model = Sequential()\n",
    "model.add(Embedding(n_most_words,n_dim,input_length = X_train.shape[1]))\n",
    "model.add(SpatialDropout1D(0.25))\n",
    "model.add(LSTM(100,dropout=0.25,recurrent_dropout=0.25))\n",
    "model.add(Dense(50,activation='relu'))\n",
    "model.add(Dense(25,activation='relu'))\n",
    "model.add(Dense(3,activation='softmax'))\n",
    "\n",
    "model.compile(optimizer='adam', loss='categorical_crossentropy', metrics=['acc'])\n",
    "\n",
    "early_stop = EarlyStopping(patience=10)\n",
    "model_history = model.fit(X_train,y_train,epochs=40,validation_split = 0.1, batch_size = 128 ,callbacks=[early_stop])"
   ]
  },
  {
   "cell_type": "code",
   "execution_count": 12,
   "metadata": {},
   "outputs": [],
   "source": [
    "import pickle\n",
    "pickle.dump(model, open(\"my_saved_model\", 'wb'))"
   ]
  },
  {
   "cell_type": "code",
   "execution_count": 13,
   "metadata": {},
   "outputs": [],
   "source": [
    "\n",
    "with open('tokenizer.pickle', 'wb') as handle:\n",
    "    pickle.dump(tokenizer, handle, protocol=pickle.HIGHEST_PROTOCOL)"
   ]
  },
  {
   "cell_type": "code",
   "execution_count": 14,
   "metadata": {},
   "outputs": [
    {
     "name": "stdout",
     "output_type": "stream",
     "text": [
      "20/20 [==============================] - 0s 5ms/step - loss: 0.3026 - acc: 0.9150\n",
      "Test set\n",
      "  Loss: 0.303\n",
      "  Accuracy: 0.915\n"
     ]
    }
   ],
   "source": [
    "\n",
    "# Checking the model loss and accuracy\n",
    "\n",
    "loaded_model = pickle.load(open(\"my_saved_model\", 'rb'))\n",
    "accr = loaded_model.evaluate(X_test,y_test)\n",
    "print('Test set\\n  Loss: {:0.3f}\\n  Accuracy: {:0.3f}'.format(accr[0],accr[1]))"
   ]
  },
  {
   "cell_type": "code",
   "execution_count": 15,
   "metadata": {},
   "outputs": [],
   "source": [
    "def find_sentiment(review,tokenizer,model):\n",
    "    model_input=cleaned_review(review)\n",
    "    seq = tokenizer.texts_to_sequences([model_input])\n",
    "    padded = pad_sequences(seq, maxlen=max_len)\n",
    "    pred = model.predict(padded)\n",
    "    label = ['Negative','Neutral','Positive']\n",
    "    return label[np.argmax(pred)]\n",
    "\n",
    "with open('tokenizer.pickle', 'rb') as handle:\n",
    "    tokenizer = pickle.load(handle)\n",
    "\n",
    "input_string=\"I have a lot of projects to do\"\n"
   ]
  },
  {
   "cell_type": "code",
   "execution_count": 16,
   "metadata": {},
   "outputs": [
    {
     "name": "stdout",
     "output_type": "stream",
     "text": [
      "1/1 [==============================] - 0s 222ms/step\n"
     ]
    },
    {
     "data": {
      "text/plain": [
       "'Neutral'"
      ]
     },
     "execution_count": 16,
     "metadata": {},
     "output_type": "execute_result"
    }
   ],
   "source": [
    "find_sentiment(input_string,tokenizer,loaded_model)"
   ]
  }
 ],
 "metadata": {
  "kernelspec": {
   "display_name": "base",
   "language": "python",
   "name": "python3"
  },
  "language_info": {
   "codemirror_mode": {
    "name": "ipython",
    "version": 3
   },
   "file_extension": ".py",
   "mimetype": "text/x-python",
   "name": "python",
   "nbconvert_exporter": "python",
   "pygments_lexer": "ipython3",
   "version": "3.9.12"
  },
  "orig_nbformat": 4
 },
 "nbformat": 4,
 "nbformat_minor": 2
}
